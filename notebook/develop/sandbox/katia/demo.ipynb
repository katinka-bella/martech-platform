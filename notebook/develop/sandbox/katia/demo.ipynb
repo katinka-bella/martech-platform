{
 "cells": [
  {
   "attachments": {},
   "cell_type": "markdown",
   "metadata": {},
   "source": [
    "# Create GA4 Custom Metrics"
   ]
  },
  {
   "attachments": {},
   "cell_type": "markdown",
   "metadata": {},
   "source": [
    "## Import Python libs for GA4"
   ]
  },
  {
   "cell_type": "code",
   "execution_count": 16,
   "metadata": {},
   "outputs": [],
   "source": [
    "from google.cloud import storage\n",
    "from google.oauth2.service_account import Credentials"
   ]
  },
  {
   "attachments": {},
   "cell_type": "markdown",
   "metadata": {},
   "source": [
    "## Read API files from Google Storage"
   ]
  },
  {
   "cell_type": "code",
   "execution_count": 17,
   "metadata": {},
   "outputs": [],
   "source": [
    "PATH_SERVER_ACCOUNT_KEY = \"/Users/katiadovzanytsia/Desktop/project/martech-notebook/config/service_account_cred.json\" #saved local\n",
    "creds = Credentials.from_service_account_file(PATH_SERVER_ACCOUNT_KEY)\n",
    "client = storage.Client(credentials=creds)"
   ]
  },
  {
   "cell_type": "code",
   "execution_count": 18,
   "metadata": {},
   "outputs": [],
   "source": [
    "bucket_api = 'martech-api-bucket'\n",
    "file_main = 'api/google/analytics/main.py' \n",
    "\n",
    "# Get a reference to the bucket and file\n",
    "get_bucket_api = client.get_bucket(bucket_api)\n",
    "blob_token = get_bucket_api.blob(file_main)\n",
    "\n",
    "# Load the contents of the file as a string\n",
    "contents_token = blob_token.download_as_string()\n",
    "\n",
    "exec(contents_token)"
   ]
  },
  {
   "cell_type": "code",
   "execution_count": 19,
   "metadata": {},
   "outputs": [],
   "source": [
    "excel=\"client/xxx/abc\""
   ]
  },
  {
   "attachments": {},
   "cell_type": "markdown",
   "metadata": {},
   "source": [
    "## Create custom metrics from Excel file"
   ]
  },
  {
   "cell_type": "code",
   "execution_count": 21,
   "metadata": {},
   "outputs": [
    {
     "name": "stdout",
     "output_type": "stream",
     "text": [
      "custom metric was created!\n"
     ]
    }
   ],
   "source": [
    "google_analytics_operator.create_custom_metrics()"
   ]
  },
  {
   "cell_type": "code",
   "execution_count": null,
   "metadata": {},
   "outputs": [],
   "source": []
  }
 ],
 "metadata": {
  "kernelspec": {
   "display_name": "Python 3 (ipykernel)",
   "language": "python",
   "name": "python3"
  },
  "language_info": {
   "codemirror_mode": {
    "name": "ipython",
    "version": 3
   },
   "file_extension": ".py",
   "mimetype": "text/x-python",
   "name": "python",
   "nbconvert_exporter": "python",
   "pygments_lexer": "ipython3",
   "version": "3.11.3"
  },
  "orig_nbformat": 4
 },
 "nbformat": 4,
 "nbformat_minor": 2
}
