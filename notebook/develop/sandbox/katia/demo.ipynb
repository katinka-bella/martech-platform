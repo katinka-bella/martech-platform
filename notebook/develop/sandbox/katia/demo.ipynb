{
 "cells": [
  {
   "cell_type": "code",
   "execution_count": null,
   "metadata": {},
   "outputs": [],
   "source": [
    "property_name=\"xxx\"\n",
    "excel=\"client/xxx/abc\"\n",
    "\n",
    "api=\"api_script\"\n",
    "\n",
    "api.run_create_cm(property_name, excel)"
   ]
  },
  {
   "cell_type": "code",
   "execution_count": null,
   "metadata": {},
   "outputs": [],
   "source": []
  }
 ],
 "metadata": {
  "language_info": {
   "name": "python"
  },
  "orig_nbformat": 4
 },
 "nbformat": 4,
 "nbformat_minor": 2
}
