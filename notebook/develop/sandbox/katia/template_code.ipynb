{
 "cells": [
  {
   "cell_type": "markdown",
   "metadata": {},
   "source": [
    "## Read Backend API"
   ]
  },
  {
   "cell_type": "code",
   "execution_count": null,
   "metadata": {},
   "outputs": [],
   "source": [
    "################################## TEMPLATE FOR CONNECTING GCS #####################################################\n",
    "# import python libs\n",
    "from google.cloud import storage\n",
    "from google.oauth2.service_account import Credentials\n",
    "\n",
    "PATH_SERVER_ACCOUNT_KEY = \"/Users/katiadovzanytsia/Desktop/project/martech-notebook/config/service_account_cred.json\" #saved local\n",
    "creds = Credentials.from_service_account_file(PATH_SERVER_ACCOUNT_KEY)\n",
    "client = storage.Client(credentials=creds)\n",
    "\n",
    "# bucket setup\n",
    "bucket_api = 'martech-api-bucket'\n",
    "file_main = 'api/google/analytics/main.py' \n",
    "\n",
    "# Get a referen## Execute backend API methodce to the bucket and file\n",
    "get_bucket_api = client.get_bucket(bucket_api)\n",
    "blob = get_bucket_api.blob(file_main)\n",
    "\n",
    "# Load the contents of the file as a string\n",
    "contents = blob.download_as_string()\n",
    "\n",
    "exec(contents)\n",
    "#####################################################################################################################"
   ]
  },
  {
   "cell_type": "markdown",
   "metadata": {},
   "source": [
    "## Define the Client Target Configuration"
   ]
  },
  {
   "cell_type": "code",
   "execution_count": 1,
   "metadata": {},
   "outputs": [],
   "source": [
    "excel=\"client/xxx/custom_metrics.xls\""
   ]
  },
  {
   "cell_type": "markdown",
   "metadata": {},
   "source": [
    "## Execute backend API method"
   ]
  },
  {
   "cell_type": "code",
   "execution_count": null,
   "metadata": {},
   "outputs": [],
   "source": [
    "google_analytics_operator.method_name(excel)"
   ]
  }
 ],
 "metadata": {
  "kernelspec": {
   "display_name": "Python 3 (ipykernel)",
   "language": "python",
   "name": "python3"
  },
  "language_info": {
   "codemirror_mode": {
    "name": "ipython",
    "version": 3
   },
   "file_extension": ".py",
   "mimetype": "text/x-python",
   "name": "python",
   "nbconvert_exporter": "python",
   "pygments_lexer": "ipython3",
   "version": "3.11.3"
  }
 },
 "nbformat": 4,
 "nbformat_minor": 2
}
