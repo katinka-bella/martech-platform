{
 "cells": [
  {
   "attachments": {},
   "cell_type": "markdown",
   "metadata": {},
   "source": [
    "## Import Python libs for Google Analaytics 4"
   ]
  },
  {
   "cell_type": "code",
   "execution_count": null,
   "metadata": {},
   "outputs": [],
   "source": [
    "from google.cloud import storage\n",
    "from google.oauth2.service_account import Credentials"
   ]
  },
  {
   "attachments": {},
   "cell_type": "markdown",
   "metadata": {},
   "source": [
    "## Read API files from Google Storage"
   ]
  },
  {
   "cell_type": "code",
   "execution_count": null,
   "metadata": {},
   "outputs": [],
   "source": [
    "PATH_SERVER_ACCOUNT_KEY = \"/Users/katiadovzanytsia/Desktop/project/martech-notebook/config/service_account_cred.json\" #saved local\n",
    "creds = Credentials.from_service_account_file(PATH_SERVER_ACCOUNT_KEY)\n",
    "client = storage.Client(credentials=creds)"
   ]
  },
  {
   "cell_type": "code",
   "execution_count": null,
   "metadata": {},
   "outputs": [],
   "source": [
    "bucket_api = 'martech-api-bucket'\n",
    "file_main = 'api/google/analytics/main.py' \n",
    "\n",
    "# Get a reference to the bucket and file\n",
    "get_bucket_api = client.get_bucket(bucket_api)\n",
    "blob_token = get_bucket_api.blob(file_main)\n",
    "\n",
    "# Load the contents of the file as a string\n",
    "contents_token = blob_token.download_as_string()\n",
    "\n",
    "exec(contents_token)"
   ]
  },
  {
   "cell_type": "code",
   "execution_count": null,
   "metadata": {},
   "outputs": [],
   "source": [
    "excel=\"client/xxx/abc\""
   ]
  },
  {
   "attachments": {},
   "cell_type": "markdown",
   "metadata": {},
   "source": [
    "## Execute backend API method"
   ]
  },
  {
   "cell_type": "code",
   "execution_count": null,
   "metadata": {},
   "outputs": [],
   "source": [
    "google_analytics_operator.method_name(excel)"
   ]
  }
 ],
 "metadata": {
  "kernelspec": {
   "display_name": "Python 3 (ipykernel)",
   "language": "python",
   "name": "python3"
  },
  "language_info": {
   "codemirror_mode": {
    "name": "ipython",
    "version": 3
   },
   "file_extension": ".py",
   "mimetype": "text/x-python",
   "name": "python",
   "nbconvert_exporter": "python",
   "pygments_lexer": "ipython3",
   "version": "3.11.3"
  },
  "orig_nbformat": 4
 },
 "nbformat": 4,
 "nbformat_minor": 2
}
