{
 "cells": [
  {
   "cell_type": "markdown",
   "id": "f2d80ac7",
   "metadata": {},
   "source": [
    "# GA4 API"
   ]
  },
  {
   "cell_type": "markdown",
   "id": "9456d3a9",
   "metadata": {},
   "source": [
    "## User Inputs"
   ]
  },
  {
   "cell_type": "code",
   "execution_count": null,
   "id": "c48c57d3",
   "metadata": {},
   "outputs": [],
   "source": [
    "SERVER_ACCOUNT_KEY_PATH = \"config/service_account_cred.json\"\n",
    "SECRETS_OAUTH_2_FILE_PATH = \"config/client_secret.json\"\n",
    "\n",
    "BUCKET_API = \"martech-sandbox\"\n",
    "GCS_CONNECT_FILE_PATH = \"katia/utils/gcs_connect_sandbox_katia.py\"\n",
    "CLIENT_CONFIG_DATA = \"clients/001/input_file.xlsx\" \n",
    "TEMPLATE_PROPERTY_ID = '360045070'"
   ]
  },
  {
   "cell_type": "markdown",
   "id": "c62c5acc",
   "metadata": {},
   "source": [
    "## Run API"
   ]
  },
  {
   "cell_type": "code",
   "execution_count": null,
   "id": "0f918380",
   "metadata": {},
   "outputs": [],
   "source": [
    "# import python libs\n",
    "from google.cloud import storage\n",
    "from google.oauth2.service_account import Credentials\n",
    "import pandas as pd\n",
    "\n",
    "def create_gcs_connection():\n",
    "    creds = Credentials.from_service_account_file(SERVER_ACCOUNT_KEY_PATH)\n",
    "    client = storage.Client(credentials=creds)\n",
    "    get_gcs_bucket = client.get_bucket(BUCKET_API)\n",
    "    gcs_blob = get_gcs_bucket.blob(GCS_CONNECT_FILE_PATH)\n",
    "    contents_gcs = gcs_blob.download_as_string()\n",
    "    return contents_gcs\n",
    "\n",
    "def read_gcs_bucket_files(connect_gcs):\n",
    "    contents = [\n",
    "        connect_gcs.read_backend_api_method(),\n",
    "        connect_gcs.read_api_request(),\n",
    "        connect_gcs.read_backend_api_utils(),\n",
    "        connect_gcs.read_backend_api_settings(),\n",
    "    ]\n",
    "    return contents\n",
    "\n",
    "\n",
    "if __name__ == \"__main__\":\n",
    "\n",
    "    ####### READ BACKEND FILES #####\n",
    "    exec(create_gcs_connection())\n",
    "    print(\"✅ GCS connected ✅\")\n",
    "    \n",
    "    connect_gcs = GoogleCloudeStorage(SERVER_ACCOUNT_KEY_PATH)\n",
    "    backend_contents = read_gcs_bucket_files(connect_gcs)\n",
    "    \n",
    "    for content in backend_contents:\n",
    "        exec(content)\n",
    "\n",
    "    backend_client_config = connect_gcs.read_client_config(CLIENT_CONFIG_DATA)\n",
    "    print(\"✅ Backend files read ✅\")\n",
    "    \n",
    "    ####### READ CONFIG VARIABLES FOR API SETUP #####\n",
    "    client_id = settings_api.get(\"client_id\")\n",
    "    client_secret = settings_api.get(\"clent_secret\")\n",
    "    api_key = settings_api.get(\"api_key\")\n",
    "\n",
    "    ####### SETUP GOOGLE ANALYTICS API #####\n",
    "    df_ga4_propety_ids = pd.read_excel(backend_client_config, sheet_name=\"Property\")\n",
    "    property_id_list = df_ga4_propety_ids[\"property_id\"].tolist()\n",
    "\n",
    "    ga4_oper = GoogleAnalyticsOperator(\n",
    "        client_id, client_secret, SECRETS_OAUTH_2_FILE_PATH, property_id_list, api_key\n",
    "    )\n",
    "    access_token = ga4_oper.create_access_token()\n",
    "    ga4_oper.set_api_action()\n",
    "    \n",
    "    template_api_url = ga4_oper.get_full_api_url(TEMPLATE_PROPERTY_ID)\n",
    "    output = read_api_obj(template_api_url, access_token)\n",
    "    \n",
    "    ####### PREP INPUT DATA FOR GA API #####\n",
    "    target_item_list = create_api_input_data(backend_client_config, output, ga4_oper.api_action)\n",
    "\n",
    "    ####### RUN GOOGLE ANALYTICS API#####\n",
    "    for property_id in property_id_list:\n",
    "        full_api_url = ga4_oper.get_full_api_url(property_id)\n",
    "        print(f\"PROPERTY_ID:{property_id}\")\n",
    "        create_api_obj(full_api_url, access_token, target_item_list)"
   ]
  },
  {
   "cell_type": "code",
   "execution_count": null,
   "id": "5a181788",
   "metadata": {},
   "outputs": [],
   "source": [
    "result = b'{\\n  \"audiences\": [\\n    {\\n      \"name\": \"properties/360045070/audiences/5839546542\",\\n      \"displayName\": \"Unbenannte Zielgruppe\",\\n      \"description\": \"test\",\\n      \"membershipDurationDays\": 30,\\n      \"adsPersonalizationEnabled\": true,\\n      \"filterClauses\": [\\n        {\\n          \"clauseType\": \"INCLUDE\",\\n          \"simpleFilter\": {\\n            \"scope\": \"AUDIENCE_FILTER_SCOPE_ACROSS_ALL_SESSIONS\",\\n            \"filterExpression\": {\\n              \"andGroup\": {\\n                \"filterExpressions\": [\\n                  {\\n                    \"orGroup\": {\\n                      \"filterExpressions\": [\\n                        {\\n                          \"dimensionOrMetricFilter\": {\\n                            \"fieldName\": \"fileExtension\",\\n                            \"stringFilter\": {\\n                              \"matchType\": \"BEGINS_WITH\",\\n                              \"value\": \"test\"\\n                            }\\n                          }\\n                        }\\n                      ]\\n                    }\\n                  }\\n                ]\\n              }\\n            }\\n          }\\n        }\\n      ]\\n    },\\n    {\\n      \"name\": \"properties/360045070/audiences/5848762999\",\\n      \"displayName\": \"Recently active users\",\\n      \"description\": \"Users that have been active in a recent period\",\\n      \"membershipDurationDays\": 30,\\n      \"adsPersonalizationEnabled\": true,\\n      \"filterClauses\": [\\n        {\\n          \"clauseType\": \"INCLUDE\",\\n          \"simpleFilter\": {\\n            \"scope\": \"AUDIENCE_FILTER_SCOPE_ACROSS_ALL_SESSIONS\",\\n            \"filterExpression\": {\\n              \"andGroup\": {\\n                \"filterExpressions\": [\\n                  {\\n                    \"orGroup\": {\\n                      \"filterExpressions\": [\\n                        {\\n                          \"eventFilter\": {\\n                            \"eventName\": \"user_engagement\",\\n                            \"eventParameterFilterExpression\": {\\n                              \"andGroup\": {\\n                                \"filterExpressions\": [\\n                                  {\\n                                    \"orGroup\": {\\n                                      \"filterExpressions\": [\\n                                        {\\n                                          \"dimensionOrMetricFilter\": {\\n                                            \"fieldName\": \"event_count\",\\n                                            \"numericFilter\": {\\n                                              \"operation\": \"GREATER_THAN\",\\n                                              \"value\": {\\n                                                \"int64Value\": \"2\"\\n                                              }\\n                                            },\\n                                            \"atAnyPointInTime\": true\\n                                          }\\n                                        }\\n                                      ]\\n                                    }\\n                                  }\\n                                ]\\n                              }\\n                            }\\n                          }\\n                        }\\n                      ]\\n                    }\\n                  }\\n                ]\\n              }\\n            }\\n          }\\n        },\\n        {\\n          \"clauseType\": \"INCLUDE\",\\n          \"simpleFilter\": {\\n            \"scope\": \"AUDIENCE_FILTER_SCOPE_ACROSS_ALL_SESSIONS\",\\n            \"filterExpression\": {\\n              \"andGroup\": {\\n                \"filterExpressions\": [\\n                  {\\n                    \"orGroup\": {\\n                      \"filterExpressions\": [\\n                        {\\n                          \"dimensionOrMetricFilter\": {\\n                            \"fieldName\": \"screenPageViews\",\\n                            \"numericFilter\": {\\n                              \"operation\": \"EQUAL\",\\n                              \"value\": {\\n                                \"int64Value\": \"2\"\\n                              }\\n                            },\\n                            \"atAnyPointInTime\": true\\n                          }\\n                        }\\n                      ]\\n                    }\\n                  }\\n                ]\\n              }\\n            }\\n          }\\n        }\\n      ]\\n    }\\n  ]\\n}\\n'\n"
   ]
  },
  {
   "cell_type": "code",
   "execution_count": null,
   "id": "fda8a9be",
   "metadata": {},
   "outputs": [],
   "source": [
    "result2 = result.decode('ascii')"
   ]
  },
  {
   "cell_type": "code",
   "execution_count": null,
   "id": "acc81e90",
   "metadata": {},
   "outputs": [],
   "source": [
    "import json\n",
    "json.loads(result2)"
   ]
  },
  {
   "cell_type": "code",
   "execution_count": null,
   "id": "45fb9592",
   "metadata": {},
   "outputs": [],
   "source": [
    "audiences = json.loads(result2).get('audiences')"
   ]
  },
  {
   "cell_type": "code",
   "execution_count": null,
   "id": "f42dc197",
   "metadata": {},
   "outputs": [],
   "source": [
    "audiences[0]"
   ]
  },
  {
   "cell_type": "code",
   "execution_count": null,
   "id": "a7dc3259",
   "metadata": {},
   "outputs": [],
   "source": [
    "audiences[0]"
   ]
  }
 ],
 "metadata": {
  "kernelspec": {
   "display_name": "Python 3 (ipykernel)",
   "language": "python",
   "name": "python3"
  },
  "language_info": {
   "codemirror_mode": {
    "name": "ipython",
    "version": 3
   },
   "file_extension": ".py",
   "mimetype": "text/x-python",
   "name": "python",
   "nbconvert_exporter": "python",
   "pygments_lexer": "ipython3",
   "version": "3.11.3"
  }
 },
 "nbformat": 4,
 "nbformat_minor": 5
}
