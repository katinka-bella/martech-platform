{
 "cells": [
  {
   "attachments": {},
   "cell_type": "markdown",
   "id": "4f3d8aed",
   "metadata": {},
   "source": [
    "# Big Query"
   ]
  },
  {
   "attachments": {},
   "cell_type": "markdown",
   "id": "6879ff16",
   "metadata": {},
   "source": [
    "## Read Backend API"
   ]
  },
  {
   "cell_type": "code",
   "execution_count": null,
   "id": "03fd13fd",
   "metadata": {},
   "outputs": [],
   "source": [
    "################################## TEMPLATE FOR CONNECTING GOOGLE CLOUD STORAGE #####################################################\n",
    "# import python libs\n",
    "from google.cloud import storage\n",
    "from google.oauth2.service_account import Credentials\n",
    "\n",
    "key_path = \"/Users/katiadovzanytsia/Desktop/project/marthech-platform/config/service_account_cred.json\"\n",
    "creds = Credentials.from_service_account_file(key_path)\n",
    "client = storage.Client(credentials=creds)\n",
    "\n",
    "# Specify the name of the bucket and the file you want to read\n",
    "bucket_api = 'martech-api-bucket'\n",
    "file_main = 'api/google/big-query/main.py'\n",
    "\n",
    "# Get a reference to the bucket and file\n",
    "get_bucket_api = client.get_bucket(bucket_api)\n",
    "blob_main = get_bucket_api.blob(file_main)\n",
    "\n",
    "# Load the contents of the file as a string\n",
    "contents = blob_main.download_as_string()\n",
    "\n",
    "exec(contents)\n",
    "##############################################################################################################################"
   ]
  },
  {
   "attachments": {},
   "cell_type": "markdown",
   "id": "fd9556b3",
   "metadata": {},
   "source": [
    "## Read API files from Google Storage"
   ]
  },
  {
   "attachments": {},
   "cell_type": "markdown",
   "id": "df778c3c",
   "metadata": {},
   "source": [
    "## Create Big Query client"
   ]
  },
  {
   "cell_type": "code",
   "execution_count": null,
   "id": "c3d4603b",
   "metadata": {},
   "outputs": [],
   "source": [
    "client = big_query_operator.create_client(key_path)"
   ]
  },
  {
   "attachments": {},
   "cell_type": "markdown",
   "id": "023b079d",
   "metadata": {},
   "source": [
    "## Create an empty table with a schema definition"
   ]
  },
  {
   "cell_type": "code",
   "execution_count": null,
   "id": "32cbf176",
   "metadata": {},
   "outputs": [],
   "source": [
    "table_id = \"katia-playground.dataset_1.table_1\"\n",
    "\n",
    "schema = [\n",
    "    bigquery.SchemaField(\"full_name\", \"STRING\", mode=\"REQUIRED\"),\n",
    "    bigquery.SchemaField(\"age\", \"INTEGER\", mode=\"REQUIRED\"),\n",
    "]"
   ]
  },
  {
   "cell_type": "code",
   "execution_count": null,
   "id": "7d50323b",
   "metadata": {},
   "outputs": [],
   "source": [
    "big_query_operator.create_table(client, table_id, schema)"
   ]
  },
  {
   "attachments": {},
   "cell_type": "markdown",
   "id": "dc98fb19",
   "metadata": {},
   "source": [
    "## Run query"
   ]
  },
  {
   "cell_type": "code",
   "execution_count": null,
   "id": "0b04e094",
   "metadata": {},
   "outputs": [],
   "source": [
    "query = \"\"\"\n",
    "    SELECT corpus as c\n",
    "    FROM `bigquery-public-data.samples.shakespeare`\n",
    "    GROUP BY corpus\n",
    "    LIMIT 5;\n",
    "\"\"\""
   ]
  },
  {
   "cell_type": "code",
   "execution_count": null,
   "id": "f990226d",
   "metadata": {},
   "outputs": [],
   "source": [
    "big_query_operator.create_query(client, query)"
   ]
  },
  {
   "cell_type": "code",
   "execution_count": null,
   "id": "e4f9010e",
   "metadata": {},
   "outputs": [],
   "source": []
  }
 ],
 "metadata": {
  "kernelspec": {
   "display_name": "Python 3 (ipykernel)",
   "language": "python",
   "name": "python3"
  },
  "language_info": {
   "codemirror_mode": {
    "name": "ipython",
    "version": 3
   },
   "file_extension": ".py",
   "mimetype": "text/x-python",
   "name": "python",
   "nbconvert_exporter": "python",
   "pygments_lexer": "ipython3",
   "version": "3.11.3"
  }
 },
 "nbformat": 4,
 "nbformat_minor": 5
}
