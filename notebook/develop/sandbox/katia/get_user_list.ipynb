{
 "cells": [
  {
   "cell_type": "code",
   "execution_count": null,
   "id": "c8923e98",
   "metadata": {},
   "outputs": [],
   "source": [
    "SERVER_ACCOUNT_KEY_PATH = \"config/service_account_cred.json\"\n",
    "SECRETS_OAUTH_2_FILE_PATH = \"config/client_secret.json\"\n",
    "\n",
    "BUCKET_API = \"martech-sandbox\"\n",
    "GCS_CONNECT_FILE_PATH = \"katia/utils/gcs_connect_sandbox_katia.py\"\n",
    "CLIENT_CONFIG_DATA = \"clients/001/input_file.xlsx\" \n",
    "#TEMPLATE_PROPERTY_ID = '360045070'\n",
    "ACCOUNT_ID = '41128675'"
   ]
  },
  {
   "cell_type": "code",
   "execution_count": null,
   "id": "203255ee",
   "metadata": {},
   "outputs": [],
   "source": [
    "# import python libs\n",
    "from google.cloud import storage\n",
    "from google.oauth2.service_account import Credentials\n",
    "import pandas as pd\n",
    "\n",
    "def create_gcs_connection():\n",
    "    creds = Credentials.from_service_account_file(SERVER_ACCOUNT_KEY_PATH)\n",
    "    client = storage.Client(credentials=creds)\n",
    "    get_gcs_bucket = client.get_bucket(BUCKET_API)\n",
    "    gcs_blob = get_gcs_bucket.blob(GCS_CONNECT_FILE_PATH)\n",
    "    contents_gcs = gcs_blob.download_as_string()\n",
    "    return contents_gcs\n",
    "\n",
    "def read_gcs_bucket_files(connect_gcs):\n",
    "    contents = [\n",
    "        connect_gcs.read_backend_api_method(),\n",
    "        connect_gcs.read_api_request(),\n",
    "        connect_gcs.read_backend_api_utils(),\n",
    "        connect_gcs.read_backend_api_settings(),\n",
    "    ]\n",
    "    return contents\n",
    "\n",
    "\n",
    "if __name__ == \"__main__\":\n",
    "\n",
    "    ####### READ BACKEND FILES #####\n",
    "    exec(create_gcs_connection())\n",
    "    print(\"✅ GCS connected ✅\")\n",
    "    \n",
    "    connect_gcs = GoogleCloudeStorage(SERVER_ACCOUNT_KEY_PATH)\n",
    "    backend_contents = read_gcs_bucket_files(connect_gcs)\n",
    "    \n",
    "    for content in backend_contents:\n",
    "        exec(content)\n",
    "\n",
    "    backend_client_config = connect_gcs.read_client_config(CLIENT_CONFIG_DATA)\n",
    "    print(\"✅ Backend files read ✅\")\n",
    "    \n",
    "    ####### READ CONFIG VARIABLES FOR API SETUP #####\n",
    "    client_id = settings_api.get(\"client_id\")\n",
    "    client_secret = settings_api.get(\"clent_secret\")\n",
    "    api_key = settings_api.get(\"api_key\")\n",
    "\n",
    "    ####### SETUP GOOGLE ANALYTICS API #####\n",
    "    df_ga4_propety_ids = pd.read_excel(backend_client_config, sheet_name=\"Property\")\n",
    "    property_id_list = df_ga4_propety_ids[\"property_id\"].tolist()\n",
    "\n",
    "    ga4_oper = GoogleAnalyticsOperator(\n",
    "        client_id, client_secret, SECRETS_OAUTH_2_FILE_PATH, property_id_list, api_key\n",
    "    )\n",
    "    access_token = ga4_oper.create_access_token()\n",
    "    "
   ]
  },
  {
   "cell_type": "code",
   "execution_count": null,
   "id": "b8e46f64",
   "metadata": {},
   "outputs": [],
   "source": [
    "#ga4_oper.set_api_action()\n",
    "    \n",
    "template_api_url = f'https://analyticsadmin.googleapis.com/v1alpha/accounts/{ACCOUNT_ID}/accessBindings?key={api_key}'\n",
    "\n",
    "#template_api_url = f'https://analyticsadmin.googleapis.com/v1alpha/properties/360045070/accessBindings?key={api_key}'\n",
    "\n",
    "users = read_api_obj(template_api_url, access_token)\n",
    "\n"
   ]
  },
  {
   "cell_type": "code",
   "execution_count": null,
   "id": "a90e0f7b",
   "metadata": {},
   "outputs": [],
   "source": [
    "def create_df(output, api_action):\n",
    "    \"\"\"\n",
    "    Write data to an Excel sheet.\n",
    "    \n",
    "    Args:\n",
    "        output (list of dictionaries): The data to be written to the Excel sheet.\n",
    "        api_action (str): The name of the sheet in the Excel file.\n",
    "        excel_writer (pd.ExcelWriter): The Excel writer object.\n",
    "    \"\"\"\n",
    "    \n",
    "    result = json.loads(output)\n",
    "\n",
    "    # Extract the data\n",
    "    data = result[api_action]\n",
    "\n",
    "    # Create a DataFrame from the data\n",
    "    df = pd.DataFrame(data)\n",
    "    \n",
    "    return df"
   ]
  },
  {
   "cell_type": "code",
   "execution_count": null,
   "id": "5d16fe44",
   "metadata": {},
   "outputs": [],
   "source": [
    "prerty_list_df = create_df(users, \"accessBindings\")"
   ]
  },
  {
   "cell_type": "code",
   "execution_count": null,
   "id": "c07eb3b7",
   "metadata": {},
   "outputs": [],
   "source": [
    "print(prerty_list_df)"
   ]
  },
  {
   "cell_type": "code",
   "execution_count": null,
   "id": "959fd263",
   "metadata": {},
   "outputs": [],
   "source": [
    "import pandas as pd\n",
    "\n",
    "users_df = prerty_list_df[['user', 'roles']]\n",
    "\n",
    "print(users_df)\n",
    "\n",
    "users_df.to_excel(\"output.xlsx\")"
   ]
  },
  {
   "cell_type": "markdown",
   "id": "08620864",
   "metadata": {},
   "source": []
  },
  {
   "cell_type": "markdown",
   "id": "73813239",
   "metadata": {},
   "source": []
  },
  {
   "cell_type": "markdown",
   "id": "1b1eface",
   "metadata": {},
   "source": []
  },
  {
   "cell_type": "markdown",
   "id": "8263690c",
   "metadata": {},
   "source": []
  },
  {
   "cell_type": "code",
   "execution_count": null,
   "id": "309bcf48",
   "metadata": {},
   "outputs": [],
   "source": []
  }
 ],
 "metadata": {
  "kernelspec": {
   "display_name": "Python 3 (ipykernel)",
   "language": "python",
   "name": "python3"
  },
  "language_info": {
   "codemirror_mode": {
    "name": "ipython",
    "version": 3
   },
   "file_extension": ".py",
   "mimetype": "text/x-python",
   "name": "python",
   "nbconvert_exporter": "python",
   "pygments_lexer": "ipython3",
   "version": "3.11.5"
  }
 },
 "nbformat": 4,
 "nbformat_minor": 5
}
