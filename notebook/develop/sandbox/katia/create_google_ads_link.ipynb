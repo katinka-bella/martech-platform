{
 "cells": [
  {
   "attachments": {},
   "cell_type": "markdown",
   "id": "7d512207",
   "metadata": {},
   "source": [
    "# Create Google Ads Links GA4"
   ]
  },
  {
   "attachments": {},
   "cell_type": "markdown",
   "id": "a2443cc4",
   "metadata": {},
   "source": [
    "## Import Python libs for GA4"
   ]
  },
  {
   "cell_type": "code",
   "execution_count": null,
   "id": "3ef407a1",
   "metadata": {},
   "outputs": [],
   "source": [
    "from google.cloud import storage\n",
    "from google.oauth2.service_account import Credentials\n",
    "import pandas as pd\n",
    "from io import BytesIO\n",
    "import requests"
   ]
  },
  {
   "attachments": {},
   "cell_type": "markdown",
   "id": "edff9236",
   "metadata": {},
   "source": [
    "## Read API files from Google Storage"
   ]
  },
  {
   "cell_type": "code",
   "execution_count": null,
   "id": "c597b8ef",
   "metadata": {},
   "outputs": [],
   "source": [
    "PATH_SERVER_ACCOUNT_KEY = \"/Users/katiadovzanytsia/Desktop/project/martech-notebook/config/service_account_cred.json\" #saved local\n",
    "creds = Credentials.from_service_account_file(PATH_SERVER_ACCOUNT_KEY)\n",
    "client = storage.Client(credentials=creds)"
   ]
  },
  {
   "cell_type": "code",
   "execution_count": null,
   "id": "a91599a7",
   "metadata": {},
   "outputs": [],
   "source": [
    "# Specify the name of the bucket and the file you want to read\n",
    "bucket_api = 'martech-api-bucket'\n",
    "file_token = 'api/google/utils/main.py'\n",
    "file_method = 'api/google/analytics/main.py'\n",
    "\n",
    "bucket_config = 'martech-config-bucket'\n",
    "file_settings = 'gcp/settings.py'\n",
    "file_cd_input = 'clients/001/input_file.xlsx'\n",
    "\n",
    "# Get a reference to the bucket and file\n",
    "get_bucket_api = client.get_bucket(bucket_api)\n",
    "blob_token = get_bucket_api.blob(file_token)\n",
    "blob_method = get_bucket_api.blob(file_method)\n",
    "\n",
    "get_bucket_config = client.get_bucket(bucket_config)\n",
    "blob_settings = get_bucket_config.blob(file_settings)\n",
    "blob_cd_input = get_bucket_config.blob(file_cd_input)\n",
    "\n",
    "# Load the contents of the file as a string\n",
    "contents_token = blob_token.download_as_string()\n",
    "contents_method = blob_method.download_as_string()\n",
    "contents_settings = blob_settings.download_as_string()\n",
    "bytes_cd_input = blob_cd_input.download_as_bytes()\n",
    "\n",
    "exec(contents_token)\n",
    "exec(contents_method)\n",
    "exec(contents_settings)"
   ]
  },
  {
   "cell_type": "code",
   "execution_count": null,
   "id": "3d226284",
   "metadata": {},
   "outputs": [],
   "source": [
    "CLIENT_ID = metadata.get(\"client_id\")\n",
    "CLIENT_SECRET = metadata.get(\"clent_secret\")\n",
    "API_KEY = metadata.get(\"api_key\")\n",
    "PATH_SECRETS_FILE_AOTH2 = \"/Users/katiadovzanytsia/Desktop/project/martech-notebook/config/client_secret.json\""
   ]
  },
  {
   "attachments": {},
   "cell_type": "markdown",
   "id": "50ce4e0d",
   "metadata": {},
   "source": [
    "## Google Ads Links from Exel file"
   ]
  },
  {
   "cell_type": "code",
   "execution_count": null,
   "id": "74c61415",
   "metadata": {},
   "outputs": [],
   "source": [
    "df_propety = pd.read_excel(BytesIO(bytes_cd_input), sheet_name='Tabelle2')\n",
    "property_id = df_propety['property_id'].tolist()"
   ]
  },
  {
   "cell_type": "code",
   "execution_count": null,
   "id": "61484039",
   "metadata": {},
   "outputs": [],
   "source": [
    "#df_google_ads_customer = pd.read_excel(BytesIO(bytes_cd_input), sheet_name='Tabelle3')\n",
    "#customer_id = df_google_ads_customer['customer_id'].tolist()\n",
    "customer_id = ['3346785186']"
   ]
  },
  {
   "cell_type": "code",
   "execution_count": null,
   "id": "95a82654",
   "metadata": {},
   "outputs": [],
   "source": [
    "access_token = utils_google.create_access_token(CLIENT_ID, CLIENT_SECRET, SCOPES, PATH_SECRETS_FILE_AOTH2, REDIRECT_URL)\n",
    "\n",
    "google_analytics_operator.create_google_ads_link(property_id, customer_id, access_token, API_KEY)"
   ]
  },
  {
   "cell_type": "code",
   "execution_count": null,
   "id": "02792a30",
   "metadata": {},
   "outputs": [],
   "source": []
  }
 ],
 "metadata": {
  "kernelspec": {
   "display_name": "Python 3 (ipykernel)",
   "language": "python",
   "name": "python3"
  },
  "language_info": {
   "codemirror_mode": {
    "name": "ipython",
    "version": 3
   },
   "file_extension": ".py",
   "mimetype": "text/x-python",
   "name": "python",
   "nbconvert_exporter": "python",
   "pygments_lexer": "ipython3",
   "version": "3.11.3"
  }
 },
 "nbformat": 4,
 "nbformat_minor": 5
}
