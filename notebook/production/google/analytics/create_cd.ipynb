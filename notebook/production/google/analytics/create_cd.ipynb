{
 "cells": [
  {
   "attachments": {},
   "cell_type": "markdown",
   "id": "7d512207",
   "metadata": {},
   "source": [
    "# Create GA4 Custome Dimensions "
   ]
  },
  {
   "attachments": {},
   "cell_type": "markdown",
   "id": "a2443cc4",
   "metadata": {},
   "source": [
    "## Import Python libs for GA4"
   ]
  },
  {
   "cell_type": "code",
   "execution_count": null,
   "id": "3ef407a1",
   "metadata": {
    "vscode": {
     "languageId": "python"
    }
   },
   "outputs": [],
   "source": [
    "from google.cloud import storage\n",
    "from google.oauth2.service_account import Credentials\n",
    "import pandas as pd\n",
    "from io import BytesIO"
   ]
  },
  {
   "attachments": {},
   "cell_type": "markdown",
   "id": "edff9236",
   "metadata": {},
   "source": [
    "## Read API files from Google Storage"
   ]
  },
  {
   "cell_type": "code",
   "execution_count": null,
   "id": "c597b8ef",
   "metadata": {
    "vscode": {
     "languageId": "python"
    }
   },
   "outputs": [],
   "source": [
    "PATH_SERVER_ACCOUNT_KEY = \"/Users/katiadovzanytsia/Desktop/martech/martech-platform/config/service_account_cred.json\" #saved local\n",
    "creds = Credentials.from_service_account_file(PATH_SERVER_ACCOUNT_KEY)\n",
    "client = storage.Client(credentials=creds)"
   ]
  },
  {
   "cell_type": "code",
   "execution_count": null,
   "id": "a91599a7",
   "metadata": {
    "vscode": {
     "languageId": "python"
    }
   },
   "outputs": [],
   "source": [
    "# Specify the name of the bucket and the file you want to read\n",
    "bucket_api = 'martech-api-bucket'\n",
    "file_token = 'api/google/utils/main.py'\n",
    "file_method = 'api/google/analytics/main.py'\n",
    "\n",
    "bucket_config = 'martech-config-bucket'\n",
    "file_settings = 'gcp/settings.py'\n",
    "file_cd_input = 'clients/001/input_file.xlsx'\n",
    "\n",
    "# Get a reference to the bucket and file\n",
    "get_bucket_api = client.get_bucket(bucket_api)\n",
    "blob_token = get_bucket_api.blob(file_token)\n",
    "blob_method = get_bucket_api.blob(file_method)\n",
    "\n",
    "get_bucket_config = client.get_bucket(bucket_config)\n",
    "blob_settings = get_bucket_config.blob(file_settings)\n",
    "blob_cd_input = get_bucket_config.blob(file_cd_input)\n",
    "\n",
    "# Load the contents of the file as a string\n",
    "contents_token = blob_token.download_as_string()\n",
    "contents_method = blob_method.download_as_string()\n",
    "contents_settings = blob_settings.download_as_string()\n",
    "bytes_cd_input = blob_cd_input.download_as_bytes()\n",
    "\n",
    "exec(contents_token)\n",
    "exec(contents_method)\n",
    "exec(contents_settings)"
   ]
  },
  {
   "cell_type": "code",
   "execution_count": null,
   "id": "3d226284",
   "metadata": {
    "vscode": {
     "languageId": "python"
    }
   },
   "outputs": [],
   "source": [
    "CLIENT_ID = metadata.get(\"client_id\")\n",
    "CLIENT_SECRET = metadata.get(\"clent_secret\")\n",
    "API_KEY = metadata.get(\"api_key\")\n",
    "PATH_SECRETS_FILE_AOTH2 = \"/Users/katiadovzanytsia/Desktop/martech/martech-platform/config/client_secret.json\""
   ]
  },
  {
   "attachments": {},
   "cell_type": "markdown",
   "id": "50ce4e0d",
   "metadata": {},
   "source": [
    "## Create Custom Dimensions from Exel file"
   ]
  },
  {
   "cell_type": "code",
   "execution_count": null,
   "id": "74c61415",
   "metadata": {
    "vscode": {
     "languageId": "python"
    }
   },
   "outputs": [],
   "source": [
    "df_propety = pd.read_excel(BytesIO(bytes_cd_input), sheet_name='Tabelle2')\n",
    "property_id = df_propety['property_id'].tolist()"
   ]
  },
  {
   "cell_type": "code",
   "execution_count": null,
   "id": "61484039",
   "metadata": {
    "vscode": {
     "languageId": "python"
    }
   },
   "outputs": [],
   "source": [
    "df_custom_dimensions = pd.read_excel(BytesIO(bytes_cd_input), sheet_name='Tabelle1')\n",
    "custom_dimentions = GoogleAnalyticsOperator.read_custom_dimensions(df_custom_dimensions)"
   ]
  },
  {
   "cell_type": "code",
   "execution_count": null,
   "id": "95a82654",
   "metadata": {
    "vscode": {
     "languageId": "python"
    }
   },
   "outputs": [],
   "source": [
    "access_token = UtilsGoogle.create_access_token(CLIENT_ID, CLIENT_SECRET, SCOPES, PATH_SECRETS_FILE_AOTH2, REDIRECT_URL)\n",
    "\n",
    "GoogleAnalyticsOperator.create_custom_dimensions(\n",
    "       property_id, custom_dimentions, access_token, API_KEY\n",
    "   )"
   ]
  },
  {
   "cell_type": "code",
   "execution_count": null,
   "id": "46606fb4",
   "metadata": {
    "vscode": {
     "languageId": "python"
    }
   },
   "outputs": [],
   "source": []
  }
 ],
 "metadata": {
  "kernelspec": {
   "display_name": "Python 3 (ipykernel)",
   "language": "python",
   "name": "python3"
  }
 },
 "nbformat": 4,
 "nbformat_minor": 5
}
