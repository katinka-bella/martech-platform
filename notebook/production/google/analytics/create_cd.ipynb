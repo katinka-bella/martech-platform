{
 "cells": [
  {
   "cell_type": "code",
   "execution_count": 1,
   "id": "bdc459e2",
   "metadata": {},
   "outputs": [
    {
     "name": "stdout",
     "output_type": "stream",
     "text": [
      "Requirement already satisfied: pandas in ./venv/lib/python3.7/site-packages (1.3.5)\r\n",
      "Requirement already satisfied: python-dateutil>=2.7.3 in ./venv/lib/python3.7/site-packages (from pandas) (2.8.2)\r\n",
      "Requirement already satisfied: pytz>=2017.3 in ./venv/lib/python3.7/site-packages (from pandas) (2023.3)\r\n",
      "Requirement already satisfied: numpy>=1.17.3 in ./venv/lib/python3.7/site-packages (from pandas) (1.21.6)\r\n",
      "Requirement already satisfied: six>=1.5 in ./venv/lib/python3.7/site-packages (from python-dateutil>=2.7.3->pandas) (1.16.0)\r\n"
     ]
    }
   ],
   "source": [
    "!pip install pandas"
   ]
  },
  {
   "cell_type": "code",
   "execution_count": 9,
   "id": "567212e2",
   "metadata": {},
   "outputs": [
    {
     "name": "stdout",
     "output_type": "stream",
     "text": [
      "Collecting openpyxl\n",
      "  Downloading openpyxl-3.1.2-py2.py3-none-any.whl (249 kB)\n",
      "\u001b[2K     \u001b[90m━━━━━━━━━━━━━━━━━━━━━━━━━━━━━━━━━━━━━━━\u001b[0m \u001b[32m250.0/250.0 kB\u001b[0m \u001b[31m2.1 MB/s\u001b[0m eta \u001b[36m0:00:00\u001b[0ma \u001b[36m0:00:01\u001b[0m\n",
      "\u001b[?25hCollecting et-xmlfile (from openpyxl)\n",
      "  Using cached et_xmlfile-1.1.0-py3-none-any.whl (4.7 kB)\n",
      "Installing collected packages: et-xmlfile, openpyxl\n",
      "Successfully installed et-xmlfile-1.1.0 openpyxl-3.1.2\n",
      "Note: you may need to restart the kernel to use updated packages.\n"
     ]
    }
   ],
   "source": [
    "pip install openpyxl"
   ]
  },
  {
   "cell_type": "code",
   "execution_count": 2,
   "id": "3ef407a1",
   "metadata": {},
   "outputs": [],
   "source": [
    "from google.cloud import storage\n",
    "from google.oauth2.service_account import Credentials\n",
    "import inspect\n",
    "import pandas as pd"
   ]
  },
  {
   "cell_type": "code",
   "execution_count": 9,
   "id": "3d226284",
   "metadata": {},
   "outputs": [],
   "source": [
    "SCOPES = settings.scopes\n",
    "PATH_SECRETS_FILE_AOTH2 = settings.path_\n",
    "REDIRECT_URL = xxx\n",
    "CLIENT_ID = xxx\n",
    "CLIENT_SECRET = xxx\n",
    "API_KEY = xxx\n",
    "PATH_SERVER_ACCOUNT_KEY = xxx"
   ]
  },
  {
   "cell_type": "code",
   "execution_count": 10,
   "id": "74c61415",
   "metadata": {},
   "outputs": [],
   "source": [
    "df1 = pd.read_excel(\"input_file.xlsx\", sheet_name='Tabelle2')\n",
    "\n",
    "# Create a new list of properties\n",
    "property_id = []\n",
    "for index, row in df1.iterrows():\n",
    "    property_id.append(\n",
    "        row[\"property_id\"]\n",
    "    )"
   ]
  },
  {
   "cell_type": "code",
   "execution_count": 11,
   "id": "e3851813",
   "metadata": {},
   "outputs": [],
   "source": [
    "df = pd.read_excel(\"input_file.xlsx\", sheet_name='Tabelle1')\n",
    "\n",
    "# Create a new list of dictionaries with the desired keys\n",
    "custom_dimention = []\n",
    "for index, row in df.iterrows():\n",
    "    custom_dimention.append({\n",
    "        \"displayName\": row[\"displayName\"] if not pd.isna(row[\"displayName\"]) else \"\",\n",
    "        \"parameterName\": row[\"parameterName\"] if not pd.isna(row[\"parameterName\"]) else \"\",\n",
    "        \"scope\": row[\"scope\"] if not pd.isna(row[\"scope\"]) else \"\",\n",
    "        \"description\": row[\"description\"] if not pd.isna(row[\"description\"]) else \"\"\n",
    "    }) "
   ]
  },
  {
   "cell_type": "code",
   "execution_count": 12,
   "id": "95a82654",
   "metadata": {},
   "outputs": [
    {
     "name": "stdout",
     "output_type": "stream",
     "text": [
      "Please go to this URL: https://accounts.google.com/o/oauth2/auth?response_type=code&client_id=574832625889-8169agv0d2oc69lear6uceqmt70mbos0.apps.googleusercontent.com&redirect_uri=https%3A%2F%2Flocalhost%3A8080%2Fcallback&scope=https%3A%2F%2Fwww.googleapis.com%2Fauth%2Fanalytics+https%3A%2F%2Fwww.googleapis.com%2Fauth%2Fanalytics.edit&state=VP32yBDis4zsmkmjjwMtubzjex7xDd&access_type=offline\n",
      "Enter the full callback URL: https://localhost:8080/callback?state=VP32yBDis4zsmkmjjwMtubzjex7xDd&code=4%2F0AbUR2VOdZiYQnB0YGbNpg4aDtd9ZvsHKWGYKu0UefOq3H1EP7Q3_-mahcrs2e0pLqcQlHw&scope=https%3A%2F%2Fwww.googleapis.com%2Fauth%2Fanalytics+https%3A%2F%2Fwww.googleapis.com%2Fauth%2Fanalytics.edit\n",
      "360045070\n",
      "b'{\\n  \"error\": {\\n    \"code\": 409,\\n    \"message\": \"Requested entity already exists\",\\n    \"status\": \"ALREADY_EXISTS\"\\n  }\\n}\\n'\n",
      "b'{\\n  \"error\": {\\n    \"code\": 409,\\n    \"message\": \"Requested entity already exists\",\\n    \"status\": \"ALREADY_EXISTS\"\\n  }\\n}\\n'\n",
      "b'{\\n  \"error\": {\\n    \"code\": 409,\\n    \"message\": \"Requested entity already exists\",\\n    \"status\": \"ALREADY_EXISTS\"\\n  }\\n}\\n'\n",
      "b'{\\n  \"error\": {\\n    \"code\": 409,\\n    \"message\": \"Requested entity already exists\",\\n    \"status\": \"ALREADY_EXISTS\"\\n  }\\n}\\n'\n",
      "b'{\\n  \"error\": {\\n    \"code\": 409,\\n    \"message\": \"Requested entity already exists\",\\n    \"status\": \"ALREADY_EXISTS\"\\n  }\\n}\\n'\n",
      "b'{\\n  \"error\": {\\n    \"code\": 409,\\n    \"message\": \"Requested entity already exists\",\\n    \"status\": \"ALREADY_EXISTS\"\\n  }\\n}\\n'\n",
      "360347762\n",
      "b'{\\n  \"error\": {\\n    \"code\": 409,\\n    \"message\": \"Requested entity already exists\",\\n    \"status\": \"ALREADY_EXISTS\"\\n  }\\n}\\n'\n",
      "b'{\\n  \"error\": {\\n    \"code\": 409,\\n    \"message\": \"Requested entity already exists\",\\n    \"status\": \"ALREADY_EXISTS\"\\n  }\\n}\\n'\n",
      "b'{\\n  \"error\": {\\n    \"code\": 409,\\n    \"message\": \"Requested entity already exists\",\\n    \"status\": \"ALREADY_EXISTS\"\\n  }\\n}\\n'\n",
      "b'{\\n  \"error\": {\\n    \"code\": 409,\\n    \"message\": \"Requested entity already exists\",\\n    \"status\": \"ALREADY_EXISTS\"\\n  }\\n}\\n'\n",
      "b'{\\n  \"error\": {\\n    \"code\": 409,\\n    \"message\": \"Requested entity already exists\",\\n    \"status\": \"ALREADY_EXISTS\"\\n  }\\n}\\n'\n",
      "b'{\\n  \"error\": {\\n    \"code\": 409,\\n    \"message\": \"Requested entity already exists\",\\n    \"status\": \"ALREADY_EXISTS\"\\n  }\\n}\\n'\n"
     ]
    }
   ],
   "source": [
    "# Replace [PATH_TO_KEY_FILE] with the path to your service account key file\n",
    "creds = Credentials.from_service_account_file(PATH_SERVER_ACCOUNT_KEY)\n",
    "\n",
    "# Create a client to interact with Cloud Storage using the credentials\n",
    "client = storage.Client(credentials=creds)\n",
    "\n",
    "# Specify the name of the bucket and the file you want to read\n",
    "bucket_name = 'test12345271936382538'\n",
    "file_name = 'utils.py'\n",
    "\n",
    "# Get a reference to the bucket and file\n",
    "bucket = client.get_bucket(bucket_name)\n",
    "blob = bucket.blob(file_name)\n",
    "\n",
    "# Load the contents of the file as a string\n",
    "contents = blob.download_as_string()\n",
    "\n",
    "# Execute the function defined in the file\n",
    "exec(contents)\n",
    "\n",
    "access_token = get_access_token(CLIENT_ID, CLIENT_SECRET, SCOPES, PATH_SECRETS_FILE_AOTH2, REDIRECT_URL)\n",
    "\n",
    "generate_ga4_custom_dimensions(\n",
    "        property_id, custom_dimention, access_token, API_KEY\n",
    "    )"
   ]
  },
  {
   "cell_type": "code",
   "execution_count": 14,
   "id": "08e15c2a",
   "metadata": {},
   "outputs": [
    {
     "name": "stdout",
     "output_type": "stream",
     "text": [
      "[360045070, 360347762]\n"
     ]
    }
   ],
   "source": [
    "import pandas as pd\n",
    "from google.cloud import storage\n",
    "\n",
    "creds = Credentials.from_service_account_file(PATH_SERVER_ACCOUNT_KEY)\n",
    "\n",
    "# Create a client to interact with Cloud Storage using the credentials\n",
    "client = storage.Client(credentials=creds)\n",
    "\n",
    "# specify the name of the Google Cloud Storage bucket and the path of the Excel file within the bucket\n",
    "bucket_name = 'test12345271936382538'\n",
    "blob_path = 'input_file.xlsx'\n",
    "\n",
    "# retrieve the blob object representing the Excel file from the bucket\n",
    "bucket = client.bucket(bucket_name)\n",
    "blob = bucket.blob(blob_path)\n",
    "\n",
    "# download the file to a temporary location on your local machine\n",
    "with open('input_file.xlsx', 'wb') as f:\n",
    "    blob.download_to_file(f)\n",
    "\n",
    "# read the Excel file into a pandas dataframe\n",
    "df1 = pd.read_excel('input_file.xlsx', sheet_name='Tabelle2')\n",
    "\n",
    "# extract the property IDs from the dataframe\n",
    "property_id = []\n",
    "for index, row in df1.iterrows():\n",
    "    property_id.append(row['property_id'])\n",
    "    \n",
    "# print the list of property IDs\n",
    "print(property_id)"
   ]
  },
  {
   "cell_type": "code",
   "execution_count": null,
   "id": "203da52e",
   "metadata": {},
   "outputs": [],
   "source": []
  }
 ],
 "metadata": {
  "kernelspec": {
   "display_name": "Python 3 (ipykernel)",
   "language": "python",
   "name": "python3"
  },
  "language_info": {
   "codemirror_mode": {
    "name": "ipython",
    "version": 3
   },
   "file_extension": ".py",
   "mimetype": "text/x-python",
   "name": "python",
   "nbconvert_exporter": "python",
   "pygments_lexer": "ipython3",
   "version": "3.7.3"
  }
 },
 "nbformat": 4,
 "nbformat_minor": 5
}
